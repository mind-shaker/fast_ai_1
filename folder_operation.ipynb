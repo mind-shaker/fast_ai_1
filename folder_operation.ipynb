{
  "nbformat": 4,
  "nbformat_minor": 0,
  "metadata": {
    "colab": {
      "provenance": [],
      "authorship_tag": "ABX9TyMEqWNdT53CC1yQ3R9j65ZX",
      "include_colab_link": true
    },
    "kernelspec": {
      "name": "python3",
      "display_name": "Python 3"
    },
    "language_info": {
      "name": "python"
    }
  },
  "cells": [
    {
      "cell_type": "markdown",
      "metadata": {
        "id": "view-in-github",
        "colab_type": "text"
      },
      "source": [
        "<a href=\"https://colab.research.google.com/github/mind-shaker/fast_ai_1/blob/main/folder_operation.ipynb\" target=\"_parent\"><img src=\"https://colab.research.google.com/assets/colab-badge.svg\" alt=\"Open In Colab\"/></a>"
      ]
    },
    {
      "cell_type": "code",
      "execution_count": 10,
      "metadata": {
        "colab": {
          "base_uri": "https://localhost:8080/"
        },
        "id": "C77FLTseaE0q",
        "outputId": "9f2ea35a-d494-4d1d-d64a-a65184adf85a"
      },
      "outputs": [
        {
          "output_type": "stream",
          "name": "stdout",
          "text": [
            "Archive:  Archive.zip\n",
            "   creating: /content/models/\n",
            "  inflating: /content/models/GAN.py  \n",
            "  inflating: /content/__MACOSX/models/._GAN.py  \n",
            "  inflating: /content/models/WGAN.py  \n",
            "  inflating: /content/__MACOSX/models/._WGAN.py  \n",
            "  inflating: /content/models/.DS_Store  \n",
            "  inflating: /content/__MACOSX/models/._.DS_Store  \n",
            "   creating: /content/models/layers/\n",
            "  inflating: /content/__MACOSX/models/._layers  \n",
            "  inflating: /content/models/MuseGAN.py  \n",
            "  inflating: /content/__MACOSX/models/._MuseGAN.py  \n",
            "  inflating: /content/models/RNNAttention.py  \n",
            "  inflating: /content/__MACOSX/models/._RNNAttention.py  \n",
            "  inflating: /content/models/WGANGP.py  \n",
            "  inflating: /content/__MACOSX/models/._WGANGP.py  \n",
            "  inflating: /content/models/AE.py   \n",
            "  inflating: /content/__MACOSX/models/._AE.py  \n",
            "  inflating: /content/models/VAE.py  \n",
            "  inflating: /content/__MACOSX/models/._VAE.py  \n",
            "  inflating: /content/models/cycleGAN.py  \n",
            "  inflating: /content/__MACOSX/models/._cycleGAN.py  \n",
            "  inflating: /content/models/layers/layers.py  \n",
            "   creating: /content/utils/\n",
            "  inflating: /content/__MACOSX/._utils  \n",
            "  inflating: /content/utils/.DS_Store  \n",
            "  inflating: /content/__MACOSX/utils/._.DS_Store  \n",
            "  inflating: /content/utils/write.py  \n",
            "  inflating: /content/utils/loaders.py  \n",
            "   creating: /content/utils/__pycache__/\n",
            "  inflating: /content/utils/callbacks.py  \n",
            "  inflating: /content/utils/__pycache__/loaders.cpython-37.pyc  \n",
            "  inflating: /content/utils/__pycache__/loaders.cpython-36.pyc  \n"
          ]
        }
      ],
      "source": [
        "!unzip Archive.zip -d /content/"
      ]
    },
    {
      "cell_type": "code",
      "source": [
        "!rm -r /content/Archive.zip"
      ],
      "metadata": {
        "id": "i2z0gSFBa5ZW"
      },
      "execution_count": 12,
      "outputs": []
    },
    {
      "cell_type": "code",
      "source": [
        "# Показать список файлов в определенной директории\n",
        "!# Удалить все файлы и подпапки в текущей директории\n",
        "!rm -r /content/*\n",
        "\n"
      ],
      "metadata": {
        "id": "Qhz0DREmbqDZ"
      },
      "execution_count": 9,
      "outputs": []
    }
  ]
}